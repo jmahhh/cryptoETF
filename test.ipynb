{
 "cells": [
  {
   "cell_type": "code",
   "execution_count": 1,
   "metadata": {},
   "outputs": [
    {
     "name": "stderr",
     "output_type": "stream",
     "text": [
      "/usr/local/lib/python2.7/site-packages/matplotlib/font_manager.py:273: UserWarning: Matplotlib is building the font cache using fc-list. This may take a moment.\n  warnings.warn('Matplotlib is building the font cache using fc-list. This may take a moment.')\n"
     ]
    }
   ],
   "source": [
    "%load_ext zipline\n",
    "%matplotlib inline"
   ]
  },
  {
   "cell_type": "code",
   "execution_count": 41,
   "metadata": {},
   "outputs": [],
   "source": [
    "from zipline.utils import factory\n",
    "from zipline.api import symbol, order, record\n",
    "import numpy as np\n",
    "from datetime import datetime\n",
    "import pytz\n",
    "import pandas as pd\n",
    "import pylab as pl\n",
    "import matplotlib.pyplot as plt\n",
    "import os\n",
    "import collections\n",
    "from StringIO import StringIO\n",
    "\n",
    "dictData = collections.OrderedDict()\n",
    "\n",
    "parse = lambda x: datetime.strptime(x, '%d-%m-%y').date()\n",
    "\n",
    "dict={}\n",
    "array = ['DOGEBTC','MAIDBTC','DASHBTC','LTCUSD','XRPUSD','BTCETH','BTSBTC','XMRBTC','BTCUSD','FCTBTC']\n",
    "\n",
    "for x in array:\n",
    "    dict[\"{0}\".format(x)] = pd.read_csv('/Users/JH/Desktop/Business/GGSB Thesis 2016/Code/excelled data/'+x+'.csv', index_col=['Timestamp'], \n",
    "                                  usecols=['Timestamp','Open','High','Low','Close','Volume'], sep=';',\n",
    "                                  parse_dates=True, date_parser=parse)\n",
    "\n",
    "dictData = dict\n",
    "# dogebtc = pd.read_csv('/Users/JH/Desktop/Business/GGSB Thesis 2016/Code/excelled data/DOGEBTC.csv', index_col=['Timestamp'], \n",
    "#                                   usecols=['Timestamp','Open','High','Low','Close','Volume'], sep=';',\n",
    "#                                   parse_dates=True, date_parser=parse)\n",
    "\n",
    "\n",
    "\n",
    "\n",
    "\n",
    "# dictData['DOGEBTC'] = dogebtc\n",
    "\n",
    "# dictData['MAIDBTC'] = pd.read_csv('/Users/JH/Desktop/Business/GGSB Thesis 2016/Code/excelled data/MAIDBTC.csv', index_col=['Timestamp'], usecols=['Timestamp','Open','High','Low','Close','Volume','VWAP','TWAP'], sep=';')\n",
    "# dictData['DASHBTC'] = pd.read_csv('/Users/JH/Desktop/Business/GGSB Thesis 2016/Code/excelled data/DASHBTC.csv', parse_dates=True, index_col=False, date_parser=parse, sep=';')\n",
    "# dictData['LTCUSD'] = pd.read_csv('/Users/JH/Desktop/Business/GGSB Thesis 2016/Code/excelled data/LTCUSD.csv', parse_dates=True, index_col=False, date_parser=parse, sep=';')\n",
    "# dictData['XRPUSD'] = pd.read_csv('/Users/JH/Desktop/Business/GGSB Thesis 2016/Code/excelled data/XRPUSD.csv', parse_dates=True, index_col=False, date_parser=parse, sep=';')\n",
    "# dictData['BTCETH'] = pd.read_csv('/Users/JH/Desktop/Business/GGSB Thesis 2016/Code/excelled data/BTCETH.csv', parse_dates=True, index_col=False, date_parser=parse, sep=';')\n",
    "# dictData['BTSBTC'] = pd.read_csv('/Users/JH/Desktop/Business/GGSB Thesis 2016/Code/excelled data/BTSBTC.csv', parse_dates=True, index_col=False, date_parser=parse, sep=';')\n",
    "# dictData['XMRBTC'] = pd.read_csv('/Users/JH/Desktop/Business/GGSB Thesis 2016/Code/excelled data/XMRBTC.csv', parse_dates=True, index_col=False, date_parser=parse, sep=';')\n",
    "# dictData['BTCUSD'] = pd.read_csv('/Users/JH/Desktop/Business/GGSB Thesis 2016/Code/excelled data/BTCUSD.csv', index_col=['Timestamp'], usecols=['Timestamp','Open','High','Low','Close','Volume','VWAP','TWAP'], sep=';')\n",
    "# print(dictData['DOGEBTC'])"
   ]
  },
  {
   "cell_type": "code",
   "execution_count": 42,
   "metadata": {},
   "outputs": [
    {
     "name": "stdout",
     "output_type": "stream",
     "text": [
      "<class 'pandas.core.panel.Panel'>\nDimensions: 10 (items) x 803 (major_axis) x 5 (minor_axis)\nItems axis: BTCETH to XRPUSD\nMajor_axis axis: 2014-04-01 00:00:00 to 2016-06-11 00:00:00\nMinor_axis axis: open to volume\nIndex([u'open', u'high', u'low', u'close', u'volume'], dtype='object')\n                open      high       low     close         volume\nTimestamp                                                        \n2014-04-01  0.000570  0.000584  0.000558  0.000565   264147.21430\n2014-04-02  0.000562  0.000575  0.000461  0.000468   334533.40500\n2014-04-03  0.000468  0.000483  0.000410  0.000483   439332.31670\n2014-04-04  0.000483  0.000504  0.000342  0.000482   285268.15880\n2014-04-05  0.000483  0.000485  0.000068  0.000481   252173.91660\n2014-04-06  0.000481  0.000491  0.000455  0.000468   208399.63040\n2014-04-07  0.000470  0.000482  0.000456  0.000475   363096.95550\n2014-04-08  0.000471  0.000677  0.000446  0.000459   280283.02690\n2014-04-09  0.000461  0.000474  0.000441  0.000454   258227.76170\n2014-04-10  0.000455  0.000455  0.000082  0.000337   343927.03090\n2014-04-11  0.000334  0.000441  0.000328  0.000441   404350.44250\n2014-04-12  0.000441  0.000451  0.000414  0.000421   199680.84110\n2014-04-13  0.000421  0.000428  0.000365  0.000385   272674.26960\n2014-04-14  0.000384  0.000454  0.000378  0.000446   438694.49720\n2014-04-15  0.000447  0.000584  0.000446  0.000579   923865.62650\n2014-04-16  0.000581  0.000791  0.000580  0.000707  2314510.89800\n2014-04-17  0.000708  0.000725  0.000622  0.000631  1117669.75700\n2014-04-18  0.000632  0.000652  0.000580  0.000605   517485.23630\n2014-04-19  0.000606  0.000655  0.000595  0.000642   453493.28670\n2014-04-20  0.000640  0.000658  0.000617  0.000625   268242.11150\n2014-04-21  0.000624  0.000638  0.000598  0.000607   279128.18570\n2014-04-22  0.000607  0.000628  0.000572  0.000575   328393.86890\n2014-04-23  0.000575  0.000583  0.000552  0.000565   358457.60210\n2014-04-24  0.000565  0.000591  0.000552  0.000588   318463.53260\n2014-04-25  0.000588  0.000597  0.000464  0.000499   713041.04190\n2014-04-26  0.000497  0.000498  0.000464  0.000477   347112.16870\n2014-04-27  0.000477  0.000484  0.000439  0.000450   289883.63870\n2014-04-28  0.000449  0.000508  0.000434  0.000492   680026.05950\n2014-04-29  0.000492  0.000513  0.000486  0.000497   677019.88230\n2014-04-30  0.000497  0.000526  0.000481  0.000503   321024.33460\n...              ...       ...       ...       ...            ...\n2016-05-13  0.000235  0.000244  0.000232  0.000236   115549.65370\n2016-05-14  0.000237  0.000239  0.000229  0.000233    46658.71891\n2016-05-15  0.000232  0.000237  0.000229  0.000233    40166.14553\n2016-05-16  0.000233  0.000234  0.000224  0.000228    55005.66058\n2016-05-17  0.000228  0.000232  0.000223  0.000227    35400.93762\n2016-05-18  0.000227  0.000232  0.000223  0.000226    30578.84420\n2016-05-19  0.000228  0.000237  0.000225  0.000226    63729.85598\n2016-05-20  0.000224  0.000230  0.000222  0.000226    33607.07397\n2016-05-21  0.000227  0.000231  0.000223  0.000228    21858.87909\n2016-05-22  0.000230  0.000230  0.000222  0.000227    36426.99191\n2016-05-23  0.000226  0.000228  0.000222  0.000227    27143.55679\n2016-05-24  0.000226  0.000230  0.000223  0.000226    32842.52126\n2016-05-25  0.000226  0.000228  0.000222  0.000227    54465.88885\n2016-05-26  0.000224  0.000228  0.000222  0.000225    27027.95714\n2016-05-27  0.000227  0.000234  0.000224  0.000232   137813.69690\n2016-05-28  0.000232  0.000241  0.000224  0.000228   107619.22790\n2016-05-29  0.000234  0.000249  0.000228  0.000235    53100.86514\n2016-05-30  0.000233  0.000245  0.000232  0.000241    31828.71361\n2016-05-31  0.000240  0.000242  0.000224  0.000229    52686.53825\n2016-06-01  0.000233  0.000238  0.000225  0.000236    44272.52755\n2016-06-02  0.000235  0.000239  0.000227  0.000231    36396.37908\n2016-06-03  0.000234  0.000244  0.000231  0.000240    57982.38542\n2016-06-04  0.000237  0.000247  0.000232  0.000240    28043.14759\n2016-06-05  0.000240  0.000241  0.000232  0.000240    22856.07381\n2016-06-06  0.000237  0.000243  0.000236  0.000241    30445.46322\n2016-06-07  0.000242  0.000243  0.000231  0.000242    57597.05663\n2016-06-08  0.000241  0.000251  0.000234  0.000245    35167.82702\n2016-06-09  0.000246  0.000271  0.000241  0.000266   120830.27140\n2016-06-10  0.000266  0.000275  0.000257  0.000263    72035.23864\n2016-06-11  0.000263  0.000264  0.000251  0.000264    54697.73726\n\n[803 rows x 5 columns]\n"
     ]
    }
   ],
   "source": [
    "panel = pd.Panel(dictData)\n",
    "panel.minor_axis = ['open', 'high', 'low', 'close', 'volume']\n",
    "print(panel)\n",
    "print(panel.minor_axis)\n",
    "print(panel['DOGEBTC'])"
   ]
  },
  {
   "cell_type": "code",
   "execution_count": 43,
   "metadata": {},
   "outputs": [],
   "source": [
    "sim_params = factory.create_simulation_parameters(\n",
    "    start=pd.to_datetime(\"01-04-14\", dayfirst=True).tz_localize(\"Europe/London\").tz_convert(\"UTC\"),\n",
    "    end=pd.to_datetime(\"11-06-16\", dayfirst=True).tz_localize(\"Europe/London\").tz_convert(\"UTC\"),\n",
    "    data_frequency=\"daily\",\n",
    "    emission_rate=\"daily\")\n",
    "\n",
    "#data = data.dropna()"
   ]
  },
  {
   "cell_type": "code",
   "execution_count": 44,
   "metadata": {},
   "outputs": [],
   "source": [
    "from zipline.algorithm import TradingAlgorithm\n",
    "from zipline.api import order, symbol\n",
    "\n",
    "import matplotlib.pyplot as plt\n",
    "\n",
    "def initialize(algo):\n",
    "    pass\n",
    "\n",
    "# This will be the ETF trading 'strategy'\n",
    "def handle_data(algo, data):\n",
    "    order(symbol('DOGEBTC'), 100000000)\n",
    "\n",
    "\n",
    "algo_obj = TradingAlgorithm(initialize=initialize, handle_data=handle_data, sim_params=sim_params)\n",
    "perf_manual = algo_obj.run(data=panel, overwrite_sim_params=False)\n",
    "\n",
    "\n",
    "#def analyze(algo, perf_manual):\n",
    "\n",
    "\n",
    "\n",
    "\n",
    "\n",
    "\n",
    "\n",
    " \n",
    " \n",
    "# ax2 = plt.subplot(212, sharex=ax1)\n",
    "# perf_manual.DOGEBTC.plot(ax=ax2)\n",
    "# \n",
    "# \n",
    "# plt.gcf().set_size_inches(18, 8)\n",
    "# plt.show()"
   ]
  },
  {
   "cell_type": "code",
   "execution_count": 45,
   "metadata": {},
   "outputs": [
    {
     "data": {
      "image/png": "[encoded data removed]",
      "text/plain": [
       "<matplotlib.figure.Figure at 0x10b01fb50>"
      ]
     },
     "metadata": {},
     "output_type": "display_data"
    }
   ],
   "source": [
    "# This works fine\n",
    "# ax1 = plt.subplot(621)\n",
    "# del dogebtc['Volume']\n",
    "# dogebtc.plot(ax=ax1)\n",
    "# plt.ylabel('price')\n",
    "# # ax1.lines.pop(4)\n",
    "# plt.setp(ax1.get_xticklabels(), visible=True)\n",
    "\n",
    "# Portfolio value\n",
    "ax1 = plt.subplot(621)\n",
    "perf_manual.portfolio_value.plot(ax=ax1)\n",
    "\n",
    "plt.gcf().set_size_inches(30,30)\n",
    "plt.show()"
   ]
  },
  {
   "cell_type": "code",
   "execution_count": null,
   "metadata": {},
   "outputs": [],
   "source": [
    ""
   ]
  }
 ],
 "metadata": {
  "kernelspec": {
   "display_name": "Python 2",
   "language": "python",
   "name": "python2"
  },
  "language_info": {
   "codemirror_mode": {
    "name": "ipython",
    "version": 2.0
   },
   "file_extension": ".py",
   "mimetype": "text/x-python",
   "name": "python",
   "nbconvert_exporter": "python",
   "pygments_lexer": "ipython2",
   "version": "2.7.6"
  }
 },
 "nbformat": 4,
 "nbformat_minor": 0
}