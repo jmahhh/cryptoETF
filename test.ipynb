{
 "cells": [
  {
   "cell_type": "code",
   "execution_count": 68,
   "metadata": {},
   "outputs": [
    {
     "name": "stdout",
     "output_type": "stream",
     "text": [
      "The zipline extension is already loaded. To reload it, use:\n  %reload_ext zipline\n"
     ]
    }
   ],
   "source": [
    "%load_ext zipline\n",
    "%matplotlib inline"
   ]
  },
  {
   "cell_type": "code",
   "execution_count": 115,
   "metadata": {},
   "outputs": [],
   "source": [
    "from zipline.utils import factory\n",
    "from zipline.api import symbol, order, record\n",
    "import numpy as np\n",
    "from datetime import datetime, date\n",
    "import pytz\n",
    "import pandas as pd\n",
    "import pylab as pl\n",
    "import matplotlib.pyplot as plt\n",
    "import os\n",
    "import collections\n",
    "from StringIO import StringIO\n",
    "\n",
    "dictData = collections.OrderedDict()\n",
    "\n",
    "parse = lambda x: datetime.strptime(x, '%d-%m-%y').date()\n",
    "\n",
    "dict={}\n",
    "array = ['DOGEBTC','MAIDBTC','DASHBTC','LTCUSD','XRPUSD','BTCETH','BTSBTC','XMRBTC','BTCUSD','FCTBTC']\n",
    "\n",
    "for x in array:\n",
    "    dict[\"{0}\".format(x)] = pd.read_csv('/Users/JH/Desktop/Business/GGSB Thesis 2016/Code/excelled data/'+x+'.csv', index_col=['Timestamp'], \n",
    "                                  usecols=['Timestamp','Open','High','Low','Close','Volume'], sep=';',\n",
    "                                  parse_dates=True, date_parser=parse)\n",
    "\n",
    "dictData = dict\n",
    "# dogebtc = pd.read_csv('/Users/JH/Desktop/Business/GGSB Thesis 2016/Code/excelled data/DOGEBTC.csv', index_col=['Timestamp'], \n",
    "#                                   usecols=['Timestamp','Open','High','Low','Close','Volume'], sep=';',\n",
    "#                                   parse_dates=True, date_parser=parse)\n",
    "\n",
    "\n",
    "\n",
    "\n",
    "\n",
    "# dictData['DOGEBTC'] = dogebtc\n",
    "\n",
    "# dictData['MAIDBTC'] = pd.read_csv('/Users/JH/Desktop/Business/GGSB Thesis 2016/Code/excelled data/MAIDBTC.csv', index_col=['Timestamp'], usecols=['Timestamp','Open','High','Low','Close','Volume','VWAP','TWAP'], sep=';')\n",
    "# dictData['DASHBTC'] = pd.read_csv('/Users/JH/Desktop/Business/GGSB Thesis 2016/Code/excelled data/DASHBTC.csv', parse_dates=True, index_col=False, date_parser=parse, sep=';')\n",
    "# dictData['LTCUSD'] = pd.read_csv('/Users/JH/Desktop/Business/GGSB Thesis 2016/Code/excelled data/LTCUSD.csv', parse_dates=True, index_col=False, date_parser=parse, sep=';')\n",
    "# dictData['XRPUSD'] = pd.read_csv('/Users/JH/Desktop/Business/GGSB Thesis 2016/Code/excelled data/XRPUSD.csv', parse_dates=True, index_col=False, date_parser=parse, sep=';')\n",
    "# dictData['BTCETH'] = pd.read_csv('/Users/JH/Desktop/Business/GGSB Thesis 2016/Code/excelled data/BTCETH.csv', parse_dates=True, index_col=False, date_parser=parse, sep=';')\n",
    "# dictData['BTSBTC'] = pd.read_csv('/Users/JH/Desktop/Business/GGSB Thesis 2016/Code/excelled data/BTSBTC.csv', parse_dates=True, index_col=False, date_parser=parse, sep=';')\n",
    "# dictData['XMRBTC'] = pd.read_csv('/Users/JH/Desktop/Business/GGSB Thesis 2016/Code/excelled data/XMRBTC.csv', parse_dates=True, index_col=False, date_parser=parse, sep=';')\n",
    "# dictData['BTCUSD'] = pd.read_csv('/Users/JH/Desktop/Business/GGSB Thesis 2016/Code/excelled data/BTCUSD.csv', index_col=['Timestamp'], usecols=['Timestamp','Open','High','Low','Close','Volume','VWAP','TWAP'], sep=';')\n",
    "# print(dictData['DOGEBTC'])"
   ]
  },
  {
   "cell_type": "code",
   "execution_count": 116,
   "metadata": {},
   "outputs": [
    {
     "name": "stdout",
     "output_type": "stream",
     "text": [
      "<class 'pandas.core.panel.Panel'>\nDimensions: 10 (items) x 803 (major_axis) x 5 (minor_axis)\nItems axis: BTCETH to XRPUSD\nMajor_axis axis: 2014-04-01 00:00:00 to 2016-06-11 00:00:00\nMinor_axis axis: open to volume\n"
     ]
    }
   ],
   "source": [
    "panel = pd.Panel(dictData)\n",
    "panel.minor_axis = ['open', 'high', 'low', 'close', 'volume']\n",
    "print(panel)\n",
    "# print(panel.minor_axis)\n",
    "# print(panel['DOGEBTC'])"
   ]
  },
  {
   "cell_type": "code",
   "execution_count": 117,
   "metadata": {},
   "outputs": [],
   "source": [
    "sim_params = factory.create_simulation_parameters(\n",
    "    start=pd.to_datetime(\"01-04-14\", dayfirst=True).tz_localize(\"Europe/London\").tz_convert(\"UTC\"),\n",
    "    end=pd.to_datetime(\"11-06-16\", dayfirst=True).tz_localize(\"Europe/London\").tz_convert(\"UTC\"),\n",
    "    data_frequency=\"daily\",\n",
    "    emission_rate=\"daily\")\n",
    "\n",
    "#data = data.dropna()"
   ]
  },
  {
   "cell_type": "code",
   "execution_count": 148,
   "metadata": {},
   "outputs": [],
   "source": [
    "from zipline.algorithm import TradingAlgorithm\n",
    "from zipline.api import order, symbol, get_datetime\n",
    "from zipline.utils import tradingcalendar as tcal\n",
    "\n",
    "\n",
    "import matplotlib.pyplot as plt\n",
    "\n",
    "# 01-04-14\n",
    "# BTC, LTC, DOGE\n",
    "# \n",
    "# 01-05-14\n",
    "# BTC, LTC, DOGE, DASH, XRP\n",
    "# \n",
    "# 01-07-14\n",
    "# BTC, LTC, DOGE, DASH, XRP, MAID, XMR\n",
    "# \n",
    "# 01-10-14\n",
    "# BTC, LTC, DOGE, DASH, XRP, MAID, XMR, BTS\n",
    "# \n",
    "# 01-09-15\n",
    "# BTC, LTC, DOGE, DASH, XRP, MAID, XMR, BTS, ETH\n",
    "# \n",
    "# 01-02-16\n",
    "# BTC, LTC, DOGE, DASH, XRP, MAID, XMR, BTS, ETH, FCT\n",
    "\n",
    "def initialize(algo):\n",
    "    algo.days = [date(2014,4,1),date(2014,5,1),date(2014,7,1),date(2014,10,1),date(2015,9,1),date(2016,2,1)]\n",
    "\n",
    "# This will be the ETF trading 'strategy'\n",
    "def handle_data(algo, data):\n",
    "    \n",
    "    # trading_days = tcal.get_trading_days((2014,4,1),(2016,5,1))\n",
    "    # print(trading_days)\n",
    "\n",
    "    # y = data['BTCUSD'].datetime.year  \n",
    "    # m = data['BTCUSD'].datetime.month  \n",
    "    # d = data['BTCUSD'].datetime.day  \n",
    "    #event_day = date(2014,4,1)\n",
    "    event_day = get_datetime(None).date()\n",
    "    # \n",
    "    # \n",
    "    #order(symbol('DOGEBTC'), 100000000)\n",
    "    for day in algo.days:  \n",
    "        if event_day == algo.days[0]:  \n",
    "             order(symbol('BTCUSD'), 1)\n",
    "             order(symbol('LTCUSD'), 10)\n",
    "             order(symbol('DOGEBTC'), 100)\n",
    "        if event_day == algo.days[1]: \n",
    "            order(symbol('XRPUSD'), 1000)\n",
    "            order(symbol('DASHBTC'), 10000)\n",
    "        if event_day == algo.days[2]:\n",
    "            order(symbol('MAIDBTC'), 10000)\n",
    "            order(symbol('XMRBTC'), 10000)\n",
    "        if event_day == algo.days[3]:\n",
    "            order(symbol('BTSBTC'), 10000)\n",
    "        if event_day == algo.days[4]:\n",
    "            order(symbol('BTCETH'), 10000)\n",
    "        if event_day == algo.days[5]:\n",
    "            order(symbol('FCTBTC'), 10000)\n",
    "\n",
    "\n",
    "\n",
    "\n",
    "algo_obj = TradingAlgorithm(initialize=initialize, handle_data=handle_data, sim_params=sim_params)\n",
    "perf_manual = algo_obj.run(data=panel, overwrite_sim_params=False)\n",
    "\n",
    "\n",
    "#def analyze(algo, perf_manual):\n",
    "\n",
    "\n",
    "\n",
    "\n",
    "\n",
    "\n",
    "\n",
    " \n",
    " \n",
    "# ax2 = plt.subplot(212, sharex=ax1)\n",
    "# perf_manual.DOGEBTC.plot(ax=ax2)\n",
    "# \n",
    "# \n",
    "# plt.gcf().set_size_inches(18, 8)\n",
    "# plt.show()"
   ]
  },
  {
   "cell_type": "code",
   "execution_count": 149,
   "metadata": {},
   "outputs": [
    {
     "data": {
      "image/png": "[encoded data removed]",
      "text/plain": [
       "<matplotlib.figure.Figure at 0x10c89d490>"
      ]
     },
     "metadata": {},
     "output_type": "display_data"
    }
   ],
   "source": [
    "# This works fine\n",
    "# ax1 = plt.subplot(621)\n",
    "# del dogebtc['Volume']\n",
    "# dogebtc.plot(ax=ax1)\n",
    "# plt.ylabel('price')\n",
    "# # ax1.lines.pop(4)\n",
    "# plt.setp(ax1.get_xticklabels(), visible=True)\n",
    "\n",
    "# Portfolio value\n",
    "ax1 = plt.subplot(621)\n",
    "perf_manual.portfolio_value.plot(ax=ax1)\n",
    "\n",
    "\n",
    "plt.gcf().set_size_inches(30,30)\n",
    "#plt.savefig('15.png',bbox_inches='tight')\n",
    "plt.show()"
   ]
  },
  {
   "cell_type": "code",
   "execution_count": null,
   "metadata": {},
   "outputs": [],
   "source": [
    ""
   ]
  }
 ],
 "metadata": {
  "kernelspec": {
   "display_name": "Python 2",
   "language": "python",
   "name": "python2"
  },
  "language_info": {
   "codemirror_mode": {
    "name": "ipython",
    "version": 2.0
   },
   "file_extension": ".py",
   "mimetype": "text/x-python",
   "name": "python",
   "nbconvert_exporter": "python",
   "pygments_lexer": "ipython2",
   "version": "2.7.6"
  }
 },
 "nbformat": 4,
 "nbformat_minor": 0
}